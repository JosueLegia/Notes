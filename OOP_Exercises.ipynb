
Walter sucks my dick








{
 "cells": [
  {
   "cell_type": "code",
   "execution_count": null,
   "id": "ec6cbaf3",
   "metadata": {},
   "outputs": [],
   "source": [
    "1.Write a Python program to create a class representing a Circle. \n",
    "Include methods to calculate its area and perimeter. \n"
   ]
  },
  {
   "cell_type": "code",
   "execution_count": 10,
   "id": "2fb57416",
   "metadata": {},
   "outputs": [
    {
     "name": "stdout",
     "output_type": "stream",
     "text": [
      "25.132741228718345\n",
      "50.26548245743669\n"
     ]
    }
   ],
   "source": [
    "import math\n",
    "\n",
    "class Circle():\n",
    "    \n",
    "    def __init__(self, radius):\n",
    "        self.radius = radius\n",
    "        \n",
    "    def perimeter(self):\n",
    "        print((self.radius *math.pi) * 2)\n",
    "        \n",
    "    def area(self):\n",
    "        print(self.radius**2 *math.pi)\n",
    "        #print(self.side *self.side* self.side)\n",
    "\n",
    "# instance of your cube \n",
    "a = Circle(4)\n",
    "\n",
    "# test the methods\n",
    "a.perimeter()\n",
    "a.area()"
   ]
  },
  {
   "cell_type": "code",
   "execution_count": 7,
   "id": "7dfbc124",
   "metadata": {},
   "outputs": [
    {
     "name": "stdout",
     "output_type": "stream",
     "text": [
      "Perimeter: 25.132741228718345\n",
      "Area: 50.26548245743669\n"
     ]
    }
   ],
   "source": [
    "import math\n",
    "\n",
    "class Circle():\n",
    "    \n",
    "    def __init__(self, radius):\n",
    "        self.radius = radius\n",
    "        \n",
    "    def perimeter(self):\n",
    "        return 2 * math.pi * self.radius\n",
    "        \n",
    "    def area(self):\n",
    "        return math.pi * self.radius**2\n",
    "\n",
    "# instance of your circle\n",
    "a = Circle(4)\n",
    "\n",
    "# test the methods\n",
    "perimeter_value = a.perimeter()\n",
    "area_value = a.area()\n",
    "\n",
    "print(f\"Perimeter: {perimeter_value}\")\n",
    "print(f\"Area: {area_value}\")"
   ]
  },
  {
   "cell_type": "code",
   "execution_count": 8,
   "id": "0ea6a3fc",
   "metadata": {},
   "outputs": [
    {
     "name": "stdout",
     "output_type": "stream",
     "text": [
      "Enter the radius of the circle: 4\n",
      "For a circle with radius 4.0:\n",
      "Perimeter: 25.132741228718345\n",
      "Area: 50.26548245743669\n"
     ]
    }
   ],
   "source": [
    "import math\n",
    "\n",
    "class Circle():\n",
    "    \n",
    "    def __init__(self, radius):\n",
    "        self.radius = radius\n",
    "        \n",
    "    def perimeter(self):\n",
    "        return 2 * math.pi * self.radius\n",
    "        \n",
    "    def area(self):\n",
    "        return math.pi * self.radius**2\n",
    "\n",
    "# Get user input for the radius\n",
    "radius_input = float(input(\"Enter the radius of the circle: \"))\n",
    "\n",
    "# Create an instance of the circle with the user-provided radius\n",
    "circle_instance = Circle(radius_input)\n",
    "\n",
    "# Calculate perimeter and area\n",
    "perimeter_value = circle_instance.perimeter()\n",
    "area_value = circle_instance.area()\n",
    "\n",
    "# Display the results\n",
    "print(f\"For a circle with radius {radius_input}:\")\n",
    "print(f\"Perimeter: {perimeter_value}\")\n",
    "print(f\"Area: {area_value}\")"
   ]
  },
  {
   "cell_type": "code",
   "execution_count": null,
   "id": "347f5695",
   "metadata": {},
   "outputs": [],
   "source": [
    "2.Write a Python program to create a person class. \n",
    "Include attributes like name, country and date of birth. Implement a method to determine the person's age. "
   ]
  },
  {
   "cell_type": "code",
   "execution_count": 13,
   "id": "9d14d9b3",
   "metadata": {},
   "outputs": [
    {
     "name": "stdout",
     "output_type": "stream",
     "text": [
      "Person 1:\n",
      "Name: Ferdi Odilia\n",
      "Country: France\n",
      "Date of Birth: 1962-07-12\n",
      "Age: 61\n"
     ]
    }
   ],
   "source": [
    "from datetime import date\n",
    "\n",
    "class Person():\n",
    "    \n",
    "    def __init__(self, name, country, birth_date):\n",
    "        self.name = name\n",
    "        self.country = country\n",
    "        self.birth_date = birth_date\n",
    "        \n",
    "    def calculate_age(self):\n",
    "        today = date.today()\n",
    "        age = today.year - self.birth_date.year\n",
    "        if today < date(today.year, self.birth_date.month, self.birth_date.day):\n",
    "            age -= 1\n",
    "        return age\n",
    "\n",
    "person1 = Person(\"Ferdi Odilia\", \"France\", date(1962, 7, 12))\n",
    "                 \n",
    "print(\"Person 1:\")\n",
    "print(\"Name:\", person1.name)\n",
    "print(\"Country:\", person1.country)\n",
    "print(\"Date of Birth:\", person1.birth_date)\n",
    "print(\"Age:\", person1.calculate_age())\n",
    "        \n",
    "        \n"
   ]
  },
  {
   "cell_type": "code",
   "execution_count": 14,
   "id": "6352a173",
   "metadata": {},
   "outputs": [
    {
     "name": "stdout",
     "output_type": "stream",
     "text": [
      "Enter the name: Maks laudowicz\n",
      "Enter the country: Poland\n",
      "Enter the birth year: 2000\n",
      "Enter the birth month: 12\n",
      "Enter the birth day: 22\n",
      "\n",
      "Person 1:\n",
      "Name: Maks laudowicz\n",
      "Country: Poland\n",
      "Date of Birth: 2000-12-22\n",
      "Age: 22\n"
     ]
    }
   ],
   "source": [
    "from datetime import date\n",
    "\n",
    "class Person():\n",
    "    \n",
    "    def __init__(self, name, country, birth_date):\n",
    "        self.name = name\n",
    "        self.country = country\n",
    "        self.birth_date = birth_date\n",
    "        \n",
    "    def calculate_age(self):\n",
    "        today = date.today()\n",
    "        age = today.year - self.birth_date.year\n",
    "        if today < date(today.year, self.birth_date.month, self.birth_date.day):\n",
    "            age -= 1\n",
    "        return age\n",
    "\n",
    "# Get user input for person's details\n",
    "name = input(\"Enter the name: \")\n",
    "country = input(\"Enter the country: \")\n",
    "year = int(input(\"Enter the birth year: \"))\n",
    "month = int(input(\"Enter the birth month: \"))\n",
    "day = int(input(\"Enter the birth day: \"))\n",
    "\n",
    "# Create an instance of the Person class with user-provided details\n",
    "person1 = Person(name, country, date(year, month, day))\n",
    "\n",
    "# Display the results\n",
    "print(\"\\nPerson 1:\")\n",
    "print(\"Name:\", person1.name)\n",
    "print(\"Country:\", person1.country)\n",
    "print(\"Date of Birth:\", person1.birth_date)\n",
    "print(\"Age:\", person1.calculate_age())"
   ]
  },
  {
   "cell_type": "code",
   "execution_count": null,
   "id": "7f419f0d",
   "metadata": {},
   "outputs": [],
   "source": [
    "3.Write a Python program to create a calculator class. Include methods for basic arithmetic operations. "
   ]
  },
  {
   "cell_type": "code",
   "execution_count": 15,
   "id": "2b503dfd",
   "metadata": {},
   "outputs": [
    {
     "name": "stdout",
     "output_type": "stream",
     "text": [
      "7 + 5 = 12\n",
      "34 - 21 = 13\n",
      "54 * 2 = 108\n"
     ]
    }
   ],
   "source": [
    "class Calculator():\n",
    "    \n",
    "    def add(self, x, y):\n",
    "        return x + y\n",
    "\n",
    "    # Define a method for subtraction that takes two arguments and returns their difference\n",
    "    def subtract(self, x, y):\n",
    "        return x - y\n",
    "\n",
    "    # Define a method for multiplication that takes two arguments and returns their product\n",
    "    def multiply(self, x, y):\n",
    "        return x * y\n",
    "\n",
    "    # Define a method for division that takes two arguments and returns the result if the denominator is not zero,\n",
    "    # or an error message if the denominator is zero\n",
    "    def divide(self, x, y):\n",
    "        if y != 0:\n",
    "            return x / y\n",
    "        else:\n",
    "            return (\"Cannot divide by zero.\")\n",
    "    \n",
    "calculator = Calculator()\n",
    "\n",
    "result = calculator.add(7, 5)\n",
    "print(\"7 + 5 =\", result)\n",
    "\n",
    "# Perform subtraction and print the result\n",
    "result = calculator.subtract(34, 21)\n",
    "print(\"34 - 21 =\", result)\n",
    "\n",
    "# Perform multiplication and print the result\n",
    "result = calculator.multiply(54, 2)\n",
    "print(\"54 * 2 =\", result)\n",
    "\n",
    "        \n",
    "        "
   ]
  },
  {
   "cell_type": "code",
   "execution_count": 16,
   "id": "fdea8128",
   "metadata": {},
   "outputs": [
    {
     "name": "stdout",
     "output_type": "stream",
     "text": [
      "Enter the first number: 4\n",
      "Enter the second number: 55\n",
      "Enter the operation (+, -, *, /): +\n",
      "4.0 + 55.0 = 59.0\n"
     ]
    }
   ],
   "source": [
    "class Calculator():\n",
    "    \n",
    "    def add(self, x, y):\n",
    "        return x + y\n",
    "\n",
    "    def subtract(self, x, y):\n",
    "        return x - y\n",
    "\n",
    "    def multiply(self, x, y):\n",
    "        return x * y\n",
    "\n",
    "    def divide(self, x, y):\n",
    "        if y != 0:\n",
    "            return x / y\n",
    "        else:\n",
    "            return (\"Cannot divide by zero.\")\n",
    "\n",
    "# Create an instance of the Calculator class\n",
    "calculator = Calculator()\n",
    "\n",
    "# Get user input for numbers and operation\n",
    "num1 = float(input(\"Enter the first number: \"))\n",
    "num2 = float(input(\"Enter the second number: \"))\n",
    "operation = input(\"Enter the operation (+, -, *, /): \")\n",
    "\n",
    "# Perform the selected operation\n",
    "if operation == '+':\n",
    "    result = calculator.add(num1, num2)\n",
    "    print(f\"{num1} + {num2} = {result}\")\n",
    "elif operation == '-':\n",
    "    result = calculator.subtract(num1, num2)\n",
    "    print(f\"{num1} - {num2} = {result}\")\n",
    "elif operation == '*':\n",
    "    result = calculator.multiply(num1, num2)\n",
    "    print(f\"{num1} * {num2} = {result}\")\n",
    "elif operation == '/':\n",
    "    result = calculator.divide(num1, num2)\n",
    "    print(f\"{num1} / {num2} = {result}\")\n",
    "else:\n",
    "    print(\"Invalid operation. Please enter +, -, *, or /.\")\n"
   ]
  },
  {
   "cell_type": "code",
   "execution_count": null,
   "id": "797f5767",
   "metadata": {},
   "outputs": [],
   "source": [
    "4.Write a Python program to create a class that represents a shape. Include methods to calculate its area and perimeter. \n",
    "Implement subclasses for different shapes like circle, triangle, and square.\n"
   ]
  },
  {
   "cell_type": "code",
   "execution_count": 17,
   "id": "00e64256",
   "metadata": {},
   "outputs": [
    {
     "name": "stdout",
     "output_type": "stream",
     "text": [
      "Radius of the circle: 7\n",
      "Circle Area: 153.93804002589985\n",
      "Circle Perimeter: 43.982297150257104\n",
      "\n",
      "Rectangle: Length = 5  Width = 7\n",
      "Rectangle Area: 35\n",
      "Rectangle Perimeter: 24\n",
      "\n",
      "Triangle: Base = 5  Height = 4  side1 = 4  side2 = 3  side3 = 5\n",
      "Triangle Area: 10.0\n",
      "Triangle Perimeter: 12\n"
     ]
    }
   ],
   "source": [
    "\n",
    "import math\n",
    "\n",
    "# Define a base class called Shape to represent a generic shape with methods for calculating area and perimeter\n",
    "class Shape:\n",
    "    # Placeholder method for calculating area (to be implemented in derived classes)\n",
    "    def calculate_area(self):\n",
    "        pass\n",
    "\n",
    "    # Placeholder method for calculating perimeter (to be implemented in derived classes)\n",
    "    def calculate_perimeter(self):\n",
    "        pass\n",
    "\n",
    "# Define a derived class called Circle, which inherits from the Shape class\n",
    "class Circle(Shape):\n",
    "    # Initialize the Circle object with a given radius\n",
    "    def __init__(self, radius):\n",
    "        self.radius = radius\n",
    "\n",
    "    # Calculate and return the area of the circle using the formula: π * r^2\n",
    "    def calculate_area(self):\n",
    "        return math.pi * self.radius**2\n",
    "\n",
    "    # Calculate and return the perimeter of the circle using the formula: 2π * r\n",
    "    def calculate_perimeter(self):\n",
    "        return 2 * math.pi * self.radius\n",
    "\n",
    "# Define a derived class called Rectangle, which inherits from the Shape class\n",
    "class Rectangle(Shape):\n",
    "    # Initialize the Rectangle object with given length and width\n",
    "    def __init__(self, length, width):\n",
    "        self.length = length\n",
    "        self.width = width\n",
    "\n",
    "    # Calculate and return the area of the rectangle using the formula: length * width\n",
    "    def calculate_area(self):\n",
    "        return self.length * self.width\n",
    "\n",
    "    # Calculate and return the perimeter of the rectangle using the formula: 2 * (length + width)\n",
    "    def calculate_perimeter(self):\n",
    "        return 2 * (self.length + self.width)\n",
    "\n",
    "# Define a derived class called Triangle, which inherits from the Shape class\n",
    "class Triangle(Shape):\n",
    "    # Initialize the Triangle object with a base, height, and three side lengths\n",
    "    def __init__(self, base, height, side1, side2, side3):\n",
    "        self.base = base\n",
    "        self.height = height\n",
    "        self.side1 = side1\n",
    "        self.side2 = side2\n",
    "        self.side3 = side3\n",
    "\n",
    "    # Calculate and return the area of the triangle using the formula: 0.5 * base * height\n",
    "    def calculate_area(self):\n",
    "        return 0.5 * self.base * self.height\n",
    "\n",
    "    # Calculate and return the perimeter of the triangle by adding the lengths of its three sides\n",
    "    def calculate_perimeter(self):\n",
    "        return self.side1 + self.side2 + self.side3\n",
    "\n",
    "# Example usage\n",
    "# Create a Circle object with a given radius and calculate its area and perimeter\n",
    "r = 7\n",
    "circle = Circle(r)\n",
    "circle_area = circle.calculate_area()\n",
    "circle_perimeter = circle.calculate_perimeter()\n",
    "\n",
    "# Print the results for the Circle\n",
    "print(\"Radius of the circle:\", r)\n",
    "print(\"Circle Area:\", circle_area)\n",
    "print(\"Circle Perimeter:\", circle_perimeter)\n",
    "\n",
    "# Create a Rectangle object with given length and width and calculate its area and perimeter\n",
    "l = 5\n",
    "w = 7\n",
    "rectangle = Rectangle(l, w)\n",
    "rectangle_area = rectangle.calculate_area()\n",
    "rectangle_perimeter = rectangle.calculate_perimeter()\n",
    "\n",
    "# Print the results for the Rectangle\n",
    "print(\"\\nRectangle: Length =\", l, \" Width =\", w)\n",
    "print(\"Rectangle Area:\", rectangle_area)\n",
    "print(\"Rectangle Perimeter:\", rectangle_perimeter)\n",
    "\n",
    "# Create a Triangle object with a base, height, and three side lengths, and calculate its area and perimeter\n",
    "base = 5\n",
    "height = 4\n",
    "s1 = 4\n",
    "s2 = 3\n",
    "s3 = 5\n",
    "\n",
    "# Print the results for the Triangle\n",
    "print(\"\\nTriangle: Base =\", base, \" Height =\", height, \" side1 =\", s1, \" side2 =\", s2, \" side3 =\", s3)\n",
    "triangle = Triangle(base, height, s1, s2, s3)\n",
    "triangle_area = triangle.calculate_area()\n",
    "triangle_perimeter = triangle.calculate_perimeter()\n",
    "print(\"Triangle Area:\", triangle_area)\n",
    "print(\"Triangle Perimeter:\", triangle_perimeter)"
   ]
  },
  {
   "cell_type": "code",
   "execution_count": null,
   "id": "2b95cfb9",
   "metadata": {},
   "outputs": [],
   "source": [
    "5.Write a Python program to create a class representing a shopping cart. \n",
    "Include methods for adding and removing items, and calculating the total price. "
   ]
  },
  {
   "cell_type": "code",
   "execution_count": 18,
   "id": "8ad871a2",
   "metadata": {},
   "outputs": [
    {
     "name": "stdout",
     "output_type": "stream",
     "text": [
      "Current Items in Cart:\n",
      "Papaya - 100\n",
      "Guava - 200\n",
      "Orange - 150\n",
      "Total Quantity: 450\n",
      "\n",
      "Updated Items in Cart after removing Orange:\n",
      "Papaya - 100\n",
      "Guava - 200\n",
      "Total Quantity: 300\n"
     ]
    }
   ],
   "source": [
    "class ShoppingCart:\n",
    "    # Initialize the shopping cart with an empty list of items\n",
    "    def __init__(self):\n",
    "        self.items = []\n",
    "\n",
    "    # Add an item with a name and quantity to the shopping cart\n",
    "    def add_item(self, item_name, qty):\n",
    "        item = (item_name, qty)\n",
    "        self.items.append(item)\n",
    "\n",
    "    # Remove an item with a specific name from the shopping cart\n",
    "    def remove_item(self, item_name):\n",
    "        for item in self.items:\n",
    "            if item[0] == item_name:\n",
    "                self.items.remove(item)\n",
    "                break\n",
    "\n",
    "    # Calculate and return the total quantity of items in the shopping cart\n",
    "    def calculate_total(self):\n",
    "        total = 0\n",
    "        for item in self.items:\n",
    "            total += item[1]\n",
    "        return total\n",
    "\n",
    "# Example usage\n",
    "# Create an instance of the ShoppingCart class\n",
    "cart = ShoppingCart()\n",
    "\n",
    "# Add items to the shopping cart\n",
    "cart.add_item(\"Papaya\", 100)\n",
    "cart.add_item(\"Guava\", 200)\n",
    "cart.add_item(\"Orange\", 150)\n",
    "\n",
    "print(\"Current Items in Cart:\")\n",
    "for item in cart.items:\n",
    "    print(item[0], \"-\", item[1])\n",
    "\n",
    "total_qty = cart.calculate_total()\n",
    "print(\"Total Quantity:\", total_qty)\n",
    "\n",
    "# Remove an item from the cart, display the updated items, and recalculate the total quantity\n",
    "cart.remove_item(\"Orange\")\n",
    "print(\"\\nUpdated Items in Cart after removing Orange:\")\n",
    "for item in cart.items:\n",
    "    print(item[0], \"-\", item[1])\n",
    "\n",
    "total_qty = cart.calculate_total()\n",
    "print(\"Total Quantity:\", total_qty) "
   ]
  },
  {
   "cell_type": "code",
   "execution_count": null,
   "id": "3170b5fb",
   "metadata": {},
   "outputs": [],
   "source": [
    "Write a Python program to create a class representing a bank. \n",
    "Include methods for managing customer accounts and transactions"
   ]
  },
  {
   "cell_type": "code",
   "execution_count": 19,
   "id": "f43f0dda",
   "metadata": {},
   "outputs": [
    {
     "name": "stdout",
     "output_type": "stream",
     "text": [
      "New a/c No.:  SB-123 Deposit Amount: 1000\n",
      "Account created successfully.\n",
      "New a/c No.:  SB-124 Deposit Amount: 1500\n",
      "Account created successfully.\n",
      "\n",
      "Deposit Rs. 600 to A/c No. SB-123\n",
      "Deposit successful.\n",
      "Withdraw Rs. 350 From A/c No. SB-124\n",
      "Withdrawal successful.\n",
      "A/c. No. SB-123\n",
      "Account balance: 1600\n",
      "A/c. No. SB-124\n",
      "Account balance: 1150\n",
      "Withdraw Rs. 1200 From A/c No. SB-124\n",
      "Insufficient funds.\n",
      "A/c. No. SB-134\n",
      "Account number does not exist.\n"
     ]
    }
   ],
   "source": [
    "# Define a class called Bank to implement a simple banking system\n",
    "class Bank:\n",
    "    # Initialize the bank with an empty dictionary to store customer accounts and balances\n",
    "    def __init__(self):\n",
    "        self.customers = {}\n",
    "\n",
    "    # Create a new account with a given account number and an optional initial balance (default to 0)\n",
    "    def create_account(self, account_number, initial_balance=0):\n",
    "        if account_number in self.customers:\n",
    "            print(\"Account number already exists.\")\n",
    "        else:\n",
    "            self.customers[account_number] = initial_balance\n",
    "            print(\"Account created successfully.\")\n",
    "\n",
    "    # Make a deposit to the account with the given account number\n",
    "    def make_deposit(self, account_number, amount):\n",
    "        if account_number in self.customers:\n",
    "            self.customers[account_number] += amount\n",
    "            print(\"Deposit successful.\")\n",
    "        else:\n",
    "            print(\"Account number does not exist.\")\n",
    "\n",
    "    # Make a withdrawal from the account with the given account number\n",
    "    def make_withdrawal(self, account_number, amount):\n",
    "        if account_number in self.customers:\n",
    "            if self.customers[account_number] >= amount:\n",
    "                self.customers[account_number] -= amount\n",
    "                print(\"Withdrawal successful.\")\n",
    "            else:\n",
    "                print(\"Insufficient funds.\")\n",
    "        else:\n",
    "            print(\"Account number does not exist.\")\n",
    "\n",
    "    # Check and print the balance of the account with the given account number\n",
    "    def check_balance(self, account_number):\n",
    "        if account_number in self.customers:\n",
    "            balance = self.customers[account_number]\n",
    "            print(f\"Account balance: {balance}\")\n",
    "        else:\n",
    "            print(\"Account number does not exist.\")\n",
    "\n",
    "# Example usage\n",
    "# Create an instance of the Bank class\n",
    "bank = Bank()\n",
    "\n",
    "# Create customer accounts and perform account operations\n",
    "acno1= \"SB-123\"\n",
    "damt1 = 1000\n",
    "print(\"New a/c No.: \",acno1,\"Deposit Amount:\",damt1)\n",
    "bank.create_account(acno1, damt1)\n",
    "\n",
    "acno2= \"SB-124\"\n",
    "damt2 = 1500\n",
    "print(\"New a/c No.: \",acno2,\"Deposit Amount:\",damt2)\n",
    "bank.create_account(acno2, damt2)\n",
    "\n",
    "wamt1 = 600\n",
    "print(\"\\nDeposit Rs.\",wamt1,\"to A/c No.\",acno1)\n",
    "bank.make_deposit(acno1, wamt1)\n",
    "\n",
    "wamt2 = 350\n",
    "print(\"Withdraw Rs.\",wamt2,\"From A/c No.\",acno2)\n",
    "bank.make_withdrawal(acno2, wamt2)\n",
    "\n",
    "print(\"A/c. No.\",acno1)\n",
    "bank.check_balance(acno1)\n",
    "\n",
    "print(\"A/c. No.\",acno2)\n",
    "bank.check_balance(acno2)\n",
    "\n",
    "wamt3 = 1200\n",
    "print(\"Withdraw Rs.\",wamt3,\"From A/c No.\",acno2)\n",
    "bank.make_withdrawal(acno2, wamt3)\n",
    "\n",
    "acno3 = \"SB-134\"\n",
    "print(\"A/c. No.\",acno3)\n",
    "bank.check_balance(acno3)  # Non-existent account number "
   ]
  },
  {
   "cell_type": "code",
   "execution_count": null,
   "id": "dabec6e7",
   "metadata": {},
   "outputs": [],
   "source": [
    "Write a Python program to create a Vehicle class with max_speed and mileage instance attributes."
   ]
  },
  {
   "cell_type": "code",
   "execution_count": 20,
   "id": "bfec53c2",
   "metadata": {},
   "outputs": [
    {
     "name": "stdout",
     "output_type": "stream",
     "text": [
      "240 18\n"
     ]
    }
   ],
   "source": [
    "class Vehicle:\n",
    "    def __init__(self, max_speed, mileage):\n",
    "        self.max_speed = max_speed\n",
    "        self.mileage = mileage\n",
    "\n",
    "modelX = Vehicle(240, 18)\n",
    "print(modelX.max_speed, modelX.mileage)"
   ]
  },
  {
   "cell_type": "code",
   "execution_count": null,
   "id": "4a570ccd",
   "metadata": {},
   "outputs": [],
   "source": [
    "Create a child class Bus that will inherit all of the variables and methods of the Vehicle class"
   ]
  },
  {
   "cell_type": "code",
   "execution_count": 26,
   "id": "58dbfdf1",
   "metadata": {},
   "outputs": [
    {
     "name": "stdout",
     "output_type": "stream",
     "text": [
      "Vehicle Name: School Volvo Speed: 180 Mileage: 12\n"
     ]
    }
   ],
   "source": [
    "class Vehicle:\n",
    "\n",
    "    def __init__(self, name, max_speed, mileage):\n",
    "        self.name = name\n",
    "        self.max_speed = max_speed\n",
    "        self.mileage = mileage\n",
    "\n",
    "class Bus(Vehicle):\n",
    "    pass\n",
    "\n",
    "School_bus = Bus(\"School Volvo\", 180, 12)\n",
    "print(\"Vehicle Name:\", School_bus.name, \"Speed:\", School_bus.max_speed, \"Mileage:\", School_bus.mileage)\n"
   ]
  },
  {
   "cell_type": "code",
   "execution_count": null,
   "id": "53b275d0",
   "metadata": {},
   "outputs": [],
   "source": [
    "Create a Bus class that inherits from the Vehicle class. \n",
    "Give the capacity argument of Bus.seating_capacity() a default value of 50."
   ]
  },
  {
   "cell_type": "code",
   "execution_count": 27,
   "id": "fa477b76",
   "metadata": {},
   "outputs": [
    {
     "ename": "TypeError",
     "evalue": "Vehicle.seating_capacity() missing 1 required positional argument: 'capacity'",
     "output_type": "error",
     "traceback": [
      "\u001b[0;31m---------------------------------------------------------------------------\u001b[0m",
      "\u001b[0;31mTypeError\u001b[0m                                 Traceback (most recent call last)",
      "Cell \u001b[0;32mIn[27], line 13\u001b[0m\n\u001b[1;32m     10\u001b[0m \u001b[38;5;28;01mclass\u001b[39;00m \u001b[38;5;21;01mBus\u001b[39;00m(Vehicle):\n\u001b[1;32m     11\u001b[0m     \u001b[38;5;28;01mpass\u001b[39;00m\n\u001b[0;32m---> 13\u001b[0m Bus\u001b[38;5;241m.\u001b[39mseating_capacity(\u001b[38;5;241m50\u001b[39m)\n",
      "\u001b[0;31mTypeError\u001b[0m: Vehicle.seating_capacity() missing 1 required positional argument: 'capacity'"
     ]
    }
   ],
   "source": [
    "class Vehicle:\n",
    "    def __init__(self, name, max_speed, mileage):\n",
    "        self.name = name\n",
    "        self.max_speed = max_speed\n",
    "        self.mileage = mileage\n",
    "\n",
    "    def seating_capacity(self, capacity):\n",
    "        return f\"The seating capacity of a {self.name} is {capacity} passengers\"\n",
    "\n",
    "class Bus(Vehicle):\n",
    "    pass\n",
    "\n",
    "Bus.seating_capacity(50)"
   ]
  },
  {
   "cell_type": "code",
   "execution_count": 28,
   "id": "6c010b27",
   "metadata": {},
   "outputs": [
    {
     "name": "stdout",
     "output_type": "stream",
     "text": [
      "Inside Person class\n",
      "Name: Jessa Age: 28\n",
      "Inside Company class\n",
      "Name: Google location: Atlanta\n",
      "Inside Employee class\n",
      "Salary: 12000 Skill: Machine Learning\n"
     ]
    }
   ],
   "source": [
    "class Person:\n",
    "    def person_info(self, name, age):\n",
    "        print('Inside Person class')\n",
    "        print('Name:', name, 'Age:', age)\n",
    "\n",
    "# Parent class 2\n",
    "class Company:\n",
    "    def company_info(self, company_name, location):\n",
    "        print('Inside Company class')\n",
    "        print('Name:', company_name, 'location:', location)\n",
    "\n",
    "# Child class\n",
    "class Employee(Person, Company):\n",
    "    def Employee_info(self, salary, skill):\n",
    "        print('Inside Employee class')\n",
    "        print('Salary:', salary, 'Skill:', skill)\n",
    "\n",
    "# Create object of Employee\n",
    "emp = Employee()\n",
    "\n",
    "# access data\n",
    "emp.person_info('Jessa', 28)\n",
    "emp.company_info('Google', 'Atlanta')\n",
    "emp.Employee_info(12000, 'Machine Learning')\n",
    "\n",
    "\n"
   ]
  },
  {
   "cell_type": "code",
   "execution_count": 29,
   "id": "bdd6264b",
   "metadata": {},
   "outputs": [
    {
     "name": "stdout",
     "output_type": "stream",
     "text": [
      "Inside Person class\n",
      "Name: Jessa Age: 28\n",
      "Inside Company class\n",
      "Name: Google Location: Atlanta\n",
      "Inside Employee class\n",
      "Salary: 12000 Skill: Machine Learning\n"
     ]
    }
   ],
   "source": [
    "class Person:\n",
    "    def __init__(self, name, age):\n",
    "        self.name = name\n",
    "        self.age = age\n",
    "\n",
    "    def person_info(self):\n",
    "        print('Inside Person class')\n",
    "        print('Name:', self.name, 'Age:', self.age)\n",
    "\n",
    "# Parent class 2\n",
    "class Company:\n",
    "    def __init__(self, company_name, location):\n",
    "        self.company_name = company_name\n",
    "        self.location = location\n",
    "\n",
    "    def company_info(self):\n",
    "        print('Inside Company class')\n",
    "        print('Name:', self.company_name, 'Location:', self.location)\n",
    "\n",
    "# Child class\n",
    "class Employee(Person, Company):\n",
    "    def __init__(self, name, age, company_name, location, salary, skill):\n",
    "        Person.__init__(self, name, age)\n",
    "        Company.__init__(self, company_name, location)\n",
    "        self.salary = salary\n",
    "        self.skill = skill\n",
    "\n",
    "    def employee_info(self):\n",
    "        print('Inside Employee class')\n",
    "        print('Salary:', self.salary, 'Skill:', self.skill)\n",
    "\n",
    "# Create object of Employee\n",
    "emp = Employee(name='Jessa', age=28, company_name='Google', location='Atlanta', salary=12000, skill='Machine Learning')\n",
    "\n",
    "# access data\n",
    "emp.person_info()\n",
    "emp.company_info()\n",
    "emp.employee_info()"
   ]
  }
 ],
 "metadata": {
  "kernelspec": {
   "display_name": "Python 3 (ipykernel)",
   "language": "python",
   "name": "python3"
  },
  "language_info": {
   "codemirror_mode": {
    "name": "ipython",
    "version": 3
   },
   "file_extension": ".py",
   "mimetype": "text/x-python",
   "name": "python",
   "nbconvert_exporter": "python",
   "pygments_lexer": "ipython3",
   "version": "3.11.4"
  }
 },
 "nbformat": 4,
 "nbformat_minor": 5
}
