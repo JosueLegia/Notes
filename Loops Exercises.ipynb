{
 "cells": [
  {
   "cell_type": "code",
   "execution_count": 1,
   "id": "c114f4bf",
   "metadata": {},
   "outputs": [
    {
     "name": "stdout",
     "output_type": "stream",
     "text": [
      "Numbers divisible by 7 and multiples of 5 between 1500 and 2700:\n",
      "[1505, 1540, 1575, 1610, 1645, 1680, 1715, 1750, 1785, 1820, 1855, 1890, 1925, 1960, 1995, 2030, 2065, 2100, 2135, 2170, 2205, 2240, 2275, 2310, 2345, 2380, 2415, 2450, 2485, 2520, 2555, 2590, 2625, 2660, 2695]\n"
     ]
    }
   ],
   "source": [
    "#1\n",
    "\n",
    "\n",
    "def find_numbers():\n",
    "    numbers = []\n",
    "    for num in range(1500, 2701):\n",
    "        if num % 7 == 0 and num % 5 == 0:\n",
    "            numbers.append(num)\n",
    "    return numbers\n",
    "\n",
    "# Example usage\n",
    "result = find_numbers()\n",
    "print(\"Numbers divisible by 7 and multiples of 5 between 1500 and 2700:\")\n",
    "print(result)"
   ]
  },
  {
   "cell_type": "code",
   "execution_count": null,
   "id": "71ca684e",
   "metadata": {},
   "outputs": [],
   "source": [
    "#2\n",
    "\n",
    "def celsius_to_fahrenheit(celsius):\n",
    "    return (celsius * 9/5) + 32\n",
    "\n",
    "def fahrenheit_to_celsius(fahrenheit):\n",
    "    return (fahrenheit - 32) * 5/9\n",
    "\n",
    "while True:\n",
    "    user_input = input(\"Enter a temperature (e.g. 60C, 45F), or type 'quit' to exit: \")\n",
    "\n",
    "    if user_input.lower() == 'quit':\n",
    "        print(\"Exiting the program.\")\n",
    "        break\n",
    "\n",
    "    if user_input[-1].upper() == 'C':\n",
    "        celsius = float(user_input[:-1])\n",
    "        fahrenheit = celsius_to_fahrenheit(celsius)\n",
    "        print(f\"{celsius}°C is {fahrenheit} in Fahrenheit\")\n",
    "    elif user_input[-1].upper() == 'F':\n",
    "        fahrenheit = float(user_input[:-1])\n",
    "        celsius = fahrenheit_to_celsius(fahrenheit)\n",
    "        print(f\"{fahrenheit}°F is {celsius} in Celsius\")\n",
    "    else:\n",
    "        print(\"Invalid input. Please enter a temperature followed by 'C' for Celsius or 'F' for Fahrenheit.\")\n"
   ]
  },
  {
   "cell_type": "code",
   "execution_count": 1,
   "id": "3aa64a02",
   "metadata": {},
   "outputs": [
    {
     "name": "stdout",
     "output_type": "stream",
     "text": [
      "Enter your guess between 1 and 9: 8\n",
      "Wrong guess, try again.\n",
      "Enter your guess between 1 and 9: 1\n",
      "Wrong guess, try again.\n",
      "Enter your guess between 1 and 9: 2\n",
      "Wrong guess, try again.\n",
      "Enter your guess between 1 and 9: 3\n",
      "Wrong guess, try again.\n",
      "Enter your guess between 1 and 9: 4\n",
      "Wrong guess, try again.\n",
      "Enter your guess between 1 and 9: 5\n",
      "Wrong guess, try again.\n",
      "Enter your guess between 1 and 9: 6\n",
      "Wrong guess, try again.\n",
      "Enter your guess between 1 and 9: 7\n",
      "Wrong guess, try again.\n",
      "Enter your guess between 1 and 9: 8\n",
      "Wrong guess, try again.\n",
      "Enter your guess between 1 and 9: 9\n",
      "Well guessed!\n"
     ]
    }
   ],
   "source": [
    "#3\n",
    "\n",
    "import random\n",
    "\n",
    "# Generate a random number between 1 and 9\n",
    "random_number = random.randint(1, 9)\n",
    "\n",
    "while True:\n",
    "    # Prompt the user to enter a guess\n",
    "    guess = input(\"Enter your guess between 1 and 9: \")\n",
    "\n",
    "    # Check if the input is an integer\n",
    "    if guess.isdigit():\n",
    "        guess = int(guess)\n",
    "        \n",
    "        # Check if the guess is correct\n",
    "        if guess == random_number:\n",
    "            print(\"Well guessed!\")\n",
    "            break   # This will exit the loop and end the program\n",
    "        else:\n",
    "            print(\"Wrong guess, try again.\")\n",
    "    else:\n",
    "        print(\"Please enter a number.\")"
   ]
  },
  {
   "cell_type": "code",
   "execution_count": 2,
   "id": "e9615056",
   "metadata": {},
   "outputs": [
    {
     "name": "stdout",
     "output_type": "stream",
     "text": [
      "Enter a word: Maks\n",
      "Reversed word: skaM\n"
     ]
    }
   ],
   "source": [
    "#5\n",
    "\n",
    "word = input(\"Enter a word: \")\n",
    "reversed_word = word[::-1]\n",
    "print(\"Reversed word:\", reversed_word)"
   ]
  },
  {
   "cell_type": "code",
   "execution_count": null,
   "id": "59888898",
   "metadata": {},
   "outputs": [],
   "source": [
    "#6\n",
    "\n"
   ]
  },
  {
   "cell_type": "code",
   "execution_count": null,
   "id": "4496d79f",
   "metadata": {},
   "outputs": [],
   "source": []
  }
 ],
 "metadata": {
  "kernelspec": {
   "display_name": "Python 3 (ipykernel)",
   "language": "python",
   "name": "python3"
  },
  "language_info": {
   "codemirror_mode": {
    "name": "ipython",
    "version": 3
   },
   "file_extension": ".py",
   "mimetype": "text/x-python",
   "name": "python",
   "nbconvert_exporter": "python",
   "pygments_lexer": "ipython3",
   "version": "3.11.4"
  }
 },
 "nbformat": 4,
 "nbformat_minor": 5
}
