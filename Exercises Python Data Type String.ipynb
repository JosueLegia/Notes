{
 "cells": [
  {
   "cell_type": "code",
   "execution_count": 18,
   "id": "1a064772",
   "metadata": {},
   "outputs": [
    {
     "name": "stdout",
     "output_type": "stream",
     "text": [
      "Enter a string: Python\n",
      "Length of the string: 6\n"
     ]
    }
   ],
   "source": [
    "#1\n",
    "\n",
    "def calculate_string_length(string):\n",
    "    return len(string)\n",
    "\n",
    "# Example usage\n",
    "input_string = input(\"Enter a string: \")\n",
    "length = calculate_string_length(input_string)\n",
    "print(\"Length of the string:\", length)\n",
    "\n"
   ]
  },
  {
   "cell_type": "code",
   "execution_count": 21,
   "id": "4623f110",
   "metadata": {},
   "outputs": [
    {
     "name": "stdout",
     "output_type": "stream",
     "text": [
      "Character frequency: {'g': 2, 'o': 3, 'l': 1, 'e': 1, '.': 1, 'c': 1, 'm': 1}\n"
     ]
    }
   ],
   "source": [
    "#2\n",
    "\n",
    "def count_character_frequency(string):\n",
    "    char_count = {}\n",
    "\n",
    "    for char in string:\n",
    "        if char in char_count:\n",
    "            char_count[char] += 1\n",
    "        else:\n",
    "            char_count[char] = 1\n",
    "\n",
    "    return char_count\n",
    "\n",
    "# Example usage\n",
    "input_string = \"google.com\"\n",
    "result = count_character_frequency(input_string)\n",
    "print(\"Character frequency:\", result)\n",
    "    "
   ]
  },
  {
   "cell_type": "code",
   "execution_count": 26,
   "id": "1ceed13c",
   "metadata": {},
   "outputs": [
    {
     "name": "stdout",
     "output_type": "stream",
     "text": [
      "Modified string: Hed2\n"
     ]
    }
   ],
   "source": [
    "#3 \n",
    "\n",
    "def get_string(string):\n",
    "    if len(string) < 2:\n",
    "        return {}\n",
    "    else:\n",
    "        return string[:2] + string[-2:]\n",
    "\n",
    "# Example usage\n",
    "input_string = \"Helloworld2\"\n",
    "result = get_string(input_string)\n",
    "print(\"Modified string:\", result)"
   ]
  },
  {
   "cell_type": "code",
   "execution_count": 27,
   "id": "1d7597d3",
   "metadata": {},
   "outputs": [
    {
     "name": "stdout",
     "output_type": "stream",
     "text": [
      "Modified string: resta$t\n"
     ]
    }
   ],
   "source": [
    "#4\n",
    "\n",
    "def replace_first_char(string):\n",
    "    if len(string) < 2:\n",
    "        return string\n",
    "\n",
    "    first_char = string[0]\n",
    "    modified_string = first_char + string[1:].replace(first_char, '$')\n",
    "\n",
    "    return modified_string\n",
    "\n",
    "# Example usage\n",
    "input_string = \"restart\"\n",
    "result = replace_first_char(input_string)\n",
    "print(\"Modified string:\", result)\n"
   ]
  },
  {
   "cell_type": "code",
   "execution_count": 28,
   "id": "417977fd",
   "metadata": {},
   "outputs": [
    {
     "name": "stdout",
     "output_type": "stream",
     "text": [
      "Modified string: xyc abz\n"
     ]
    }
   ],
   "source": [
    "#5\n",
    "\n",
    "def swap_first_two_chars(string1, string2):\n",
    "    if len(string1) < 2 or len(string2) < 2:\n",
    "        return string1 + ' ' + string2\n",
    "\n",
    "    modified_string1 = string2[:2] + string1[2:]\n",
    "    modified_string2 = string1[:2] + string2[2:]\n",
    "    result = modified_string1 + ' ' + modified_string2\n",
    "\n",
    "    return result\n",
    "\n",
    "# Example usage\n",
    "string1 = \"abc\"\n",
    "string2 = \"xyz\"\n",
    "result = swap_first_two_chars(string1, string2)\n",
    "print(\"Modified string:\", result)"
   ]
  },
  {
   "cell_type": "code",
   "execution_count": 3,
   "id": "2e6f1a3e",
   "metadata": {},
   "outputs": [
    {
     "name": "stdout",
     "output_type": "stream",
     "text": [
      "Longest word: programming\n",
      "Length of the longest word: 11\n"
     ]
    }
   ],
   "source": [
    "#8\n",
    "\n",
    "def find_longest_word(words):\n",
    "    longest_word = \"\"\n",
    "    longest_length = 0\n",
    "\n",
    "    for word in words:\n",
    "        if len(word) > longest_length:\n",
    "            longest_word = word\n",
    "            longest_length = len(word)\n",
    "\n",
    "    return longest_word, longest_length\n",
    "\n",
    "# Example usage\n",
    "word_list = ['Python', 'programming', 'Exercises', 'language']\n",
    "longest_word, length = find_longest_word(word_list)\n",
    "print(\"Longest word:\", longest_word)\n",
    "print(\"Length of the longest word:\", length)"
   ]
  },
  {
   "cell_type": "code",
   "execution_count": 4,
   "id": "235ac342",
   "metadata": {},
   "outputs": [
    {
     "name": "stdout",
     "output_type": "stream",
     "text": [
      "Modified string: Hello, orld!\n"
     ]
    }
   ],
   "source": [
    "#9\n",
    "\n",
    "def remove_character(string, n):\n",
    "    if n < 0 or n >= len(string):\n",
    "        return \"Invalid index\"\n",
    "\n",
    "    return string[:n] + string[n+1:]\n",
    "\n",
    "# Example usage\n",
    "input_string = \"Hello, World!\"\n",
    "index_to_remove = 7\n",
    "result = remove_character(input_string, index_to_remove)\n",
    "print(\"Modified string:\", result)"
   ]
  },
  {
   "cell_type": "code",
   "execution_count": 5,
   "id": "2e688cc5",
   "metadata": {},
   "outputs": [
    {
     "name": "stdout",
     "output_type": "stream",
     "text": [
      "Modified string: oellH\n"
     ]
    }
   ],
   "source": [
    "#10\n",
    "\n",
    "def swap_first_last(string):\n",
    "    if len(string) < 2:\n",
    "        return string\n",
    "\n",
    "    return string[-1] + string[1:-1] + string[0]\n",
    "\n",
    "# Example usage\n",
    "input_string = \"Hello\"\n",
    "result = swap_first_last(input_string)\n",
    "print(\"Modified string:\", result)"
   ]
  },
  {
   "cell_type": "code",
   "execution_count": 13,
   "id": "77c97721",
   "metadata": {},
   "outputs": [
    {
     "name": "stdout",
     "output_type": "stream",
     "text": [
      "Modified string: 56789696\n"
     ]
    }
   ],
   "source": [
    "#11\n",
    "\n",
    "def remove_character(string, n):\n",
    "     if n < 0 or n >= len(string):\n",
    "        return \"Invalid index\"\n",
    "     elif n % 2 != 0:\n",
    "    \n",
    "        return string[:n] + string[n+1:]\n",
    "\n",
    "# Example usage\n",
    "input_string = \"567896996\"\n",
    "index_to_remove = 7\n",
    "result = remove_character(input_string, index_to_remove)\n",
    "print(\"Modified string:\", result)\n"
   ]
  },
  {
   "cell_type": "code",
   "execution_count": 14,
   "id": "47fb233b",
   "metadata": {},
   "outputs": [
    {
     "name": "stdout",
     "output_type": "stream",
     "text": [
      "Word occurrences: {'I': 1, 'love': 1, 'to': 1, 'code': 1, 'in': 1, 'Python.': 1, 'Python': 1, 'is': 1, 'a': 1, 'powerful': 1, 'programming': 1, 'language.': 1}\n"
     ]
    }
   ],
   "source": [
    "#12\n",
    "\n",
    "def count_word_occurrences(sentence):\n",
    "    word_count = {}\n",
    "    words = sentence.split()\n",
    "\n",
    "    for word in words:\n",
    "        if word in word_count:\n",
    "            word_count[word] += 1\n",
    "        else:\n",
    "            word_count[word] = 1\n",
    "\n",
    "    return word_count\n",
    "\n",
    "# Example usage\n",
    "input_sentence = \"I love to code in Python. Python is a powerful programming language.\"\n",
    "result = count_word_occurrences(input_sentence)\n",
    "print(\"Word occurrences:\", result)\n",
    "    "
   ]
  },
  {
   "cell_type": "code",
   "execution_count": 15,
   "id": "14b568c5",
   "metadata": {},
   "outputs": [
    {
     "name": "stdout",
     "output_type": "stream",
     "text": [
      "Enter a sentence: Have a nice day\n",
      "Upper case: HAVE A NICE DAY\n",
      "Lower case: have a nice day\n"
     ]
    }
   ],
   "source": [
    "#13\n",
    "\n",
    "user_input = input(\"Enter a sentence: \")\n",
    "\n",
    "print(\"Upper case:\", user_input.upper())\n",
    "print(\"Lower case:\", user_input.lower())\n"
   ]
  },
  {
   "cell_type": "code",
   "execution_count": 16,
   "id": "bf498c1b",
   "metadata": {},
   "outputs": [
    {
     "name": "stdout",
     "output_type": "stream",
     "text": [
      "Enter a comma-separated sequence of words: red, white, black, red, green, black\n",
      "Distinct words in sorted form:  black,  green,  red,  white, red\n"
     ]
    }
   ],
   "source": [
    "#14\n",
    "\n",
    "user_input = input(\"Enter a comma-separated sequence of words: \")\n",
    "\n",
    "words = user_input.split(\",\")\n",
    "distinct_words = sorted(set(words))\n",
    "\n",
    "print(\"Distinct words in sorted form:\", \", \".join(distinct_words))"
   ]
  },
  {
   "cell_type": "code",
   "execution_count": 17,
   "id": "65a7f01e",
   "metadata": {},
   "outputs": [
    {
     "name": "stdout",
     "output_type": "stream",
     "text": [
      "<i>Python</i>\n",
      "<b>Python Tutorial</b>\n"
     ]
    }
   ],
   "source": [
    "#15\n",
    "\n",
    "def add_tags(tag, word):\n",
    "    return f\"<{tag}>{word}</{tag}>\"\n",
    "\n",
    "# Example usage\n",
    "result1 = add_tags('i', 'Python')\n",
    "print(result1)\n",
    "\n",
    "result2 = add_tags('b', 'Python Tutorial')\n",
    "print(result2)"
   ]
  },
  {
   "cell_type": "code",
   "execution_count": 3,
   "id": "3ebd2f79",
   "metadata": {},
   "outputs": [
    {
     "name": "stdout",
     "output_type": "stream",
     "text": [
      "[[Python]]\n",
      "{{PHP}}\n",
      "<<HTML>>\n"
     ]
    }
   ],
   "source": [
    "#16\n",
    "\n",
    "def insert_sting_middle(str, word):\n",
    "    return str[:2] + word + str[2:]\n",
    "\n",
    "print(insert_sting_middle('[[]]', 'Python'))\n",
    "print(insert_sting_middle('{{}}', 'PHP'))\n",
    "print(insert_sting_middle('<<>>', 'HTML'))\n",
    "\n",
    "\n"
   ]
  },
  {
   "cell_type": "code",
   "execution_count": 4,
   "id": "817edea1",
   "metadata": {},
   "outputs": [
    {
     "name": "stdout",
     "output_type": "stream",
     "text": [
      "onononon\n",
      "eseseses\n"
     ]
    }
   ],
   "source": [
    "#17\n",
    "\n",
    "def insert_end(str):\n",
    "    sub_str = str[-2:]\n",
    "    return sub_str * 4\n",
    "\n",
    "print(insert_end('Python'))\n",
    "print(insert_end('Exercises'))\n",
    "\n"
   ]
  },
  {
   "cell_type": "code",
   "execution_count": 8,
   "id": "14d41767",
   "metadata": {},
   "outputs": [
    {
     "name": "stdout",
     "output_type": "stream",
     "text": [
      "ipy\n",
      "pyt\n"
     ]
    }
   ],
   "source": [
    "#18\n",
    "\n",
    "def insert_beg(str):\n",
    "    if len(str) < 3:\n",
    "        return str\n",
    "    else:\n",
    "        sub_str = str[:3]\n",
    "        return sub_str\n",
    "\n",
    "print(insert_beg('ipy'))\n",
    "print(insert_beg('python'))\n"
   ]
  },
  {
   "cell_type": "code",
   "execution_count": 10,
   "id": "0cae6008",
   "metadata": {},
   "outputs": [
    {
     "name": "stdout",
     "output_type": "stream",
     "text": [
      "Last part before '{}' character: Hello, World! How ar\n"
     ]
    }
   ],
   "source": [
    "#19\n",
    "\n",
    "def get_last_part_before_character(input_string, specified_character):\n",
    "    return input_string.rsplit(specified_character, 1)[0]\n",
    "\n",
    "# Example usage:\n",
    "input_str = \"Hello, World! How are you?\"\n",
    "specified_char = 'e'\n",
    "\n",
    "result = get_last_part_before_character(input_str, specified_char)\n",
    "print(\"Last part before '{}' character:\", result)\n"
   ]
  },
  {
   "cell_type": "code",
   "execution_count": 17,
   "id": "5d3391c9",
   "metadata": {},
   "outputs": [
    {
     "name": "stdout",
     "output_type": "stream",
     "text": [
      "Python\n",
      "Hello\n",
      "lleH\n"
     ]
    }
   ],
   "source": [
    "#20\n",
    "\n",
    "def reverse_string(str):\n",
    "    if len(str) % 4 == 0:\n",
    "        rev_string = str[::-1]\n",
    "        return rev_string\n",
    "    else:\n",
    "        return str\n",
    "print(reverse_string('Python'))\n",
    "print(reverse_string('Hello'))\n",
    "print(reverse_string('Hell'))"
   ]
  },
  {
   "cell_type": "code",
   "execution_count": 19,
   "id": "a9f4e370",
   "metadata": {},
   "outputs": [
    {
     "name": "stdout",
     "output_type": "stream",
     "text": [
      "ABCDEFG\n",
      "abcDEfG\n"
     ]
    }
   ],
   "source": [
    "#21\n",
    "\n",
    "def convert_string(s):\n",
    "    # Step 1: Slice the string to get the first four characters\n",
    "    first_four_chars = s[:4]\n",
    "\n",
    "    # Step 2: Initialize a counter to keep track of uppercase characters\n",
    "    upper_case_counter = 0\n",
    "\n",
    "    # Step 3: Iterate through the sliced string\n",
    "    for char in first_four_chars:\n",
    "        # Step 4: For each character, check if it is an uppercase character\n",
    "        if char.isupper():\n",
    "            # If it is, increment the counter\n",
    "            upper_case_counter += 1\n",
    "\n",
    "    # Step 5: Check if the counter is greater than or equal to 2\n",
    "    if upper_case_counter >= 2:\n",
    "        # If so, return the original string converted to uppercase\n",
    "        return s.upper()\n",
    "    else:\n",
    "        # If not, return the original string as is\n",
    "        return s\n",
    "    \n",
    "print(convert_string('AbCdEfG'))  # output: 'ABCDEFG'\n",
    "print(convert_string('abcDEfG'))  # output: 'abcDEfG'"
   ]
  },
  {
   "cell_type": "code",
   "execution_count": null,
   "id": "f08769ce",
   "metadata": {},
   "outputs": [],
   "source": []
  }
 ],
 "metadata": {
  "kernelspec": {
   "display_name": "Python 3 (ipykernel)",
   "language": "python",
   "name": "python3"
  },
  "language_info": {
   "codemirror_mode": {
    "name": "ipython",
    "version": 3
   },
   "file_extension": ".py",
   "mimetype": "text/x-python",
   "name": "python",
   "nbconvert_exporter": "python",
   "pygments_lexer": "ipython3",
   "version": "3.11.4"
  }
 },
 "nbformat": 4,
 "nbformat_minor": 5
}
